{
 "cells": [
  {
   "cell_type": "markdown",
   "id": "af9ad7e2",
   "metadata": {},
   "source": [
    "# GA 1.4: Modelling Road Deformation using Non-Linear Least-Squares\n",
    "\n",
    "<h1 style=\"position: absolute; display: flex; flex-grow: 0; flex-shrink: 0; flex-direction: row-reverse; top: 60px;right: 30px; margin: 0; border: 0\">\n",
    "    <style>\n",
    "        .markdown {width:100%; position: relative}\n",
    "        article { position: relative }\n",
    "    </style>\n",
    "    <img src=\"https://gitlab.tudelft.nl/mude/public/-/raw/main/tu-logo/TU_P1_full-color.png\" style=\"width:100px\" />\n",
    "    <img src=\"https://gitlab.tudelft.nl/mude/public/-/raw/main/mude-logo/MUDE_Logo-small.png\" style=\"width:100px\" />\n",
    "</h1>\n",
    "<h2 style=\"height: 10px\">\n",
    "</h2>\n",
    "\n",
    "*[CEGM1000 MUDE](http://mude.citg.tudelft.nl/): Week 1.4. Due: Friday, September 27, 2024.*"
   ]
  },
  {
   "cell_type": "markdown",
   "id": "00945ccf",
   "metadata": {},
   "source": [
    "## Part 0: Recap of GA 1.3\n",
    "\n",
    "As you (hopefully!) recall, last week we investigated observed displacements of a road in the Green Heart of the Netherlands, where groundwater levels play a significant role. The model was defined as:\n",
    "\n",
    "$$\n",
    "d = d_0 + vt + k \\ \\textrm{GW},\n",
    "$$\n",
    "where $d$ is the displacement, $t$ is time and $\\textrm{GW}$ is the groundwater level (that we assume to be deterministic). \n",
    "\n",
    "Therefore, the model has 3 unknowns:\n",
    "1. $d_0$, as the initial displacement at $t_0$;\n",
    "2. $v$, as the displacement velocity;\n",
    "3. $k$, as the 'groundwater factor', which can be seen as the response of the soil to changes in the groundwater level.\n",
    "\n",
    "We used BLUE to create a linear model, which we conveniently stored in a dictionary. Let's start by spending a few minutes refreshing our memory about this model."
   ]
  },
  {
   "cell_type": "code",
   "execution_count": 1,
   "id": "b381f517",
   "metadata": {},
   "outputs": [],
   "source": [
    "import numpy as np\n",
    "from scipy import interpolate\n",
    "from scipy.stats import norm\n",
    "import pandas as pd\n",
    "import matplotlib.pyplot as plt\n",
    "import ipywidgets as widgets\n",
    "from ipywidgets import interact, fixed\n",
    "from scipy.stats.distributions import chi2\n",
    "\n",
    "from functions import *\n",
    "\n",
    "np.set_printoptions(precision=3);"
   ]
  },
  {
   "attachments": {},
   "cell_type": "markdown",
   "id": "3f0287af",
   "metadata": {},
   "source": [
    "<div style=\"background-color:#AABAB2; color: black; width:95%; vertical-align: middle; padding:15px; margin: 10px; border-radius: 10px\">\n",
    "<p>\n",
    "<b>Task 0.1: </b>   \n",
    "    \n",
    "Run the cell below to load two dictionaries (objects) into the Python variable space, <code>m1</code> and <code>m2</code>. You can run the code to check the key:value pairs.\n",
    "    \n",
    "</p>\n",
    "</div>"
   ]
  },
  {
   "cell_type": "markdown",
   "id": "a32822ae",
   "metadata": {},
   "source": [
    "<div style=\"background-color:#facb8e; color: black; width:95%; vertical-align: middle; padding:15px; margin: 10px; border-radius: 10px\"> <p>\n",
    "\n",
    "Note that the objects are stored in and loaded from \"pickle\" files, a native Python serialization format (in non-technical speak: a pickle file saves our variables to use them later, like we do here). The model dictionaries were defined and saved in the file <code>setup.py</code>, which you are welcome to read if you are curious.\n",
    "</p></div>"
   ]
  },
  {
   "cell_type": "code",
   "execution_count": 2,
   "id": "b8be3730",
   "metadata": {},
   "outputs": [],
   "source": [
    "m1_blue = load_pickle_file('m1_blue.pickle')\n",
    "m2_blue = load_pickle_file('m2_blue.pickle')"
   ]
  },
  {
   "cell_type": "markdown",
   "id": "b4c81901",
   "metadata": {},
   "source": [
    "Sometimes it can be difficult to get a sense of the contents of the dictionary, so we made a simple function to help summarize it:"
   ]
  },
  {
   "cell_type": "code",
   "execution_count": null,
   "id": "e02d5566",
   "metadata": {},
   "outputs": [],
   "source": [
    "model_summary(m1_blue)\n",
    "model_summary(m2_blue)"
   ]
  },
  {
   "cell_type": "markdown",
   "id": "78308267",
   "metadata": {},
   "source": [
    "Remember you can also print the keys using a simple for loop like this:"
   ]
  },
  {
   "cell_type": "code",
   "execution_count": null,
   "id": "cabfa723",
   "metadata": {},
   "outputs": [],
   "source": [
    "for key in m1_blue.keys():\n",
    "    print(key)"
   ]
  },
  {
   "cell_type": "markdown",
   "id": "0b4e08a3",
   "metadata": {},
   "source": [
    "<div style=\"background-color:#AABAB2; color: black; width:95%; vertical-align: middle; padding:15px; margin: 10px; border-radius: 10px\">\n",
    "<p>\n",
    "<b>Task 0.2: </b>   \n",
    "    \n",
    "Run the cell below to activate the widget. Play with the parameter values until you are completely familiar with what each one does, and confirm that the model results from last week are indeed those that minimize the mean of the squared residuals.\n",
    "    \n",
    "</p>\n",
    "</div>"
   ]
  },
  {
   "cell_type": "code",
   "execution_count": null,
   "id": "73af3940",
   "metadata": {},
   "outputs": [],
   "source": [
    "x0_slider = widgets.FloatSlider(value=0, min=-10, max=10, step=0.1, description='x0')\n",
    "x1_slider = widgets.FloatSlider(value=0, min=-0.1, max=0.1, step=0.001, description='x1')\n",
    "x2_slider = widgets.FloatSlider(value=1, min=-1, max=1, step=0.01, description='x2')\n",
    "\n",
    "interact(model_widget,\n",
    "         x0=x0_slider, x1=x1_slider, x2=x2_slider, x3=fixed(None),\n",
    "         m=[('INSAR', m1_blue), ('GNSS', m2_blue)]);\n"
   ]
  },
  {
   "cell_type": "markdown",
   "id": "36948058",
   "metadata": {},
   "source": [
    "### Preparing for Another Set of Models\n",
    "\n",
    "Hopefully you found it useful for keeping track of our models in dictionaries. If not, well---maybe you will after this GA, because we are going to do it again! The next cell takes care of initializing a new set of dictionaries for our work "
   ]
  },
  {
   "cell_type": "markdown",
   "id": "62dff8b6",
   "metadata": {},
   "source": [
    "<div style=\"background-color:#AABAB2; color: black; width:95%; vertical-align: middle; padding:15px; margin: 10px; border-radius: 10px\">\n",
    "<p>\n",
    "<b>Task 0.3: </b>   \n",
    "    \n",
    "Run the cell below to initialize the dictionaries for our non-linear least squares models. Once again, we will have a model for GNSS and another for INSAR data.\n",
    "    \n",
    "</p>\n",
    "</div>"
   ]
  },
  {
   "cell_type": "code",
   "execution_count": 6,
   "id": "712e4114",
   "metadata": {},
   "outputs": [],
   "source": [
    "def initialize_new_dict(d_old):\n",
    "    d = {}\n",
    "    d['data_type'] = d_old['data_type']\n",
    "    d['model_type'] = 'Non-Linear Least Squares'\n",
    "    d['times'] = d_old['times']\n",
    "    d['y'] = d_old['y']\n",
    "    d['std_Y'] = d_old['std_Y']\n",
    "    d['Sigma_Y'] = d_old['Sigma_Y']\n",
    "    d['days'] = d_old['days']\n",
    "    d['groundwater'] = d_old['groundwater']\n",
    "    d['groundwater_data'] = d_old['groundwater_data']\n",
    "    return d\n",
    "\n",
    "m1 = initialize_new_dict(m1_blue)\n",
    "m2 = initialize_new_dict(m2_blue)"
   ]
  },
  {
   "attachments": {},
   "cell_type": "markdown",
   "id": "dee36d36",
   "metadata": {},
   "source": [
    "<div style=\"background-color:#AABAB2; color: black; width:95%; vertical-align: middle; padding:15px; margin: 10px; border-radius: 10px\">\n",
    "<p>\n",
    "<b>Task 0.4: </b>   \n",
    "    \n",
    "Confirm that the stochastic model is transferred properly by printing the appropriate key-value pair in the dictionary.\n",
    "\n",
    "<em>Hint: use the for loop in one of the tasks above to see the keys. VS Code should also auto-fill a list of suggestions as you type.</em>\n",
    "    \n",
    "</p>\n",
    "</div>"
   ]
  },
  {
   "cell_type": "code",
   "execution_count": null,
   "id": "9aeda35f",
   "metadata": {},
   "outputs": [],
   "source": [
    "YOUR_CODE_HERE"
   ]
  },
  {
   "cell_type": "markdown",
   "id": "80a9b60f",
   "metadata": {
    "id": "80a9b60f"
   },
   "source": [
    "## Part 1: Set-up Non-Linear Model\n",
    "\n",
    "In the model we fitted using BLUE, we only considered a linear velocity and a dependency on the groundwater level. However, when a heavy construction is built on 'soft' soil layers, compaction of the upper layers will be observed. This compaction is relatively large in the beginning but decreases when time passes. We can approach the behavior with a simplified model, assuming an exponential decay. \n",
    "\n",
    "*Please note that this is very simplified model that does not necessarily rely on relationships derived directly from physics principles.* \n",
    "\n",
    "The new model is defined as\n",
    "$$\n",
    "d = d_0 + R \\ \\left(1-\\exp\\left(\\frac{-t}{a}\\right)\\right) + k \\ \\textrm{GW},\n",
    "$$\n",
    "where $d$ is the displacement, $t$ is the time and $\\textrm{GW}$ is the groundwater level. \n",
    "\n",
    "Therefore, the new model has 4 unknowns:\n",
    "1. $d_0$, as the initial displacement at $t_0$;\n",
    "2. $R$, which can be seen as the response of the soil layers to the extra weight of the road. Notice that when it is zero, there would be no compaction due to the extra loading;\n",
    "3. $a$, as scaling parameter that represents the memory of the system;\n",
    "4. $k$, as 'groundwater factor' that can be seen as the response of the layers due to changes in the groundwater level.\n",
    "\n",
    "It can be seen that the model is non-linear. We will therefore use non-linear least-squares to solve for the unknown parameters. \n",
    "\n",
    "### Computing y: Python Implementation\n",
    "\n",
    "We will use a Python function to evaluate the non-linear function. Recall that the general form of the model is $\\mathrm{E(Y)}=q(\\mathrm{x})$, where $\\mathrm{x}$ represents the vector of model parameters. Note also that to implement this model in practice often additional (deterministic!) parameters are required. This can be written in a Python function with the following form of input arguments:\n",
    "\n",
    "```\n",
    "y_comp = compute_y(x, <auxiliary_arguments>)\n",
    "```\n",
    "\n",
    "Where `<auxiliary_arguments>` will be different in type and/or number on a case-by-case basis. Your code will generally be more compact and adaptable to other cases if the parameters are specified in a list, array or tuple. "
   ]
  },
  {
   "cell_type": "markdown",
   "id": "e28b32ed",
   "metadata": {},
   "source": [
    "<div style=\"background-color:#AABAB2; color: black; width:95%; vertical-align: middle; padding:15px; margin: 10px; border-radius: 10px\">\n",
    "<p>\n",
    "<b>Task 1.1:</b>   \n",
    "\n",
    "Read the code below to understand the model (and fill in the missing parameter values). Be sure to understand which objects are the parameters of interest, and what the auxiliary arguments are (type and number).\n",
    "</p>\n",
    "</div>"
   ]
  },
  {
   "cell_type": "code",
   "execution_count": 8,
   "id": "3ba5bf67",
   "metadata": {
    "id": "3ba5bf67",
    "tags": []
   },
   "outputs": [],
   "source": [
    "def compute_y(x, d):\n",
    "    \"\"\"Model, q: ground surface displacement.\n",
    "\n",
    "    Inputs:\n",
    "      x: tuple, list or array of parameters\n",
    "         (d, R, a, k)\n",
    "      d: dictionary of model parameters\n",
    "\n",
    "    Outputs: ndarray of ground level\n",
    "\n",
    "    Note: \"times\" is not included as an argument because\n",
    "    the model is only configured to compute the\n",
    "    model at times where the groundwater measurements have\n",
    "    been interpolated (i.e., the times of the satellite\n",
    "    observations). To use this model for prediction, the\n",
    "    interpolation function must be incorporated in the\n",
    "    dictionary and/or the function. \n",
    "    \"\"\"\n",
    "    \n",
    "    # Hint: use d['days'] and d['groundwater'] for\n",
    "    #       the deterministic parameters\n",
    "\n",
    "    y_comp = (YOUR_CODE_HERE\n",
    "              + YOUR_CODE_HERE*(1 - np.exp(-d['days']/YOUR_CODE_HERE))\n",
    "              + YOUR_CODE_HEREX[3]*d['groundwater']\n",
    "         )\n",
    "    \n",
    "    return y_comp\n",
    "\n",
    "m1['compute_y'] = compute_y\n",
    "m2['compute_y'] = compute_y"
   ]
  },
  {
   "cell_type": "markdown",
   "id": "fbd55e2b",
   "metadata": {},
   "source": [
    "<div style=\"background-color:#AABAB2; color: black; width:95%; vertical-align: middle; padding:15px; margin: 10px; border-radius: 10px\">\n",
    "<p>\n",
    "<b>Task 1.2: </b>   \n",
    "    \n",
    "Use the widget below to gain understanding of the non-linear model and its parameters, as well as the role that the deterministic parameters (observation times and groundwater measurements). You can use this widget to help select your initial unknown parameter values for the Gauss-Newton iteration.\n",
    "    \n",
    "</p>\n",
    "</div>"
   ]
  },
  {
   "cell_type": "code",
   "execution_count": null,
   "id": "b20c1e61",
   "metadata": {},
   "outputs": [],
   "source": [
    "x0_slider = widgets.FloatSlider(value=0, min=-40, max=40, step=0.5, description='x0')\n",
    "x1_slider = widgets.FloatSlider(value=0, min=-50, max=50, step=1, description='x1')\n",
    "x2_slider = widgets.FloatSlider(value=1, min=10, max=1000, step=10, description='x2')\n",
    "x3_slider = widgets.FloatSlider(value=1, min=-1, max=1, step=0.01, description='x3')\n",
    "\n",
    "interact(model_widget,\n",
    "         x0=x0_slider, x1=x1_slider, x2=x2_slider, x3=x3_slider,\n",
    "         m=[('InSAR', m1), ('GNSS', m2)]);\n"
   ]
  },
  {
   "cell_type": "markdown",
   "id": "c9bfc4d7",
   "metadata": {},
   "source": [
    "<div style=\"background-color:#AABAB2; color: black; width:95%; vertical-align: middle; padding:15px; margin: 10px; border-radius: 10px\">\n",
    "<p>\n",
    "<b>Task 1.3: </b>   \n",
    "    \n",
    "Choose initial values for the model parameters using the widget above. The tuple will be used later as an input to one of our functions.\n",
    "    \n",
    "</p>\n",
    "</div>"
   ]
  },
  {
   "cell_type": "code",
   "execution_count": 10,
   "id": "66ddf324-11fe-4516-a37c-b8a90ce84c18",
   "metadata": {},
   "outputs": [],
   "source": [
    "d_init = YOUR_CODE_HERE\n",
    "R_init = YOUR_CODE_HERE\n",
    "a_init = YOUR_CODE_HERE\n",
    "k_init = YOUR_CODE_HERE\n",
    "\n",
    "initial_guess = (d_init, R_init, a_init, k_init)"
   ]
  },
  {
   "cell_type": "markdown",
   "id": "ee09f7d6",
   "metadata": {},
   "source": [
    "<div style=\"background-color:#AABAB2; color: black; width:95%; vertical-align: middle; padding:15px; margin: 10px; border-radius: 10px\">\n",
    "<p>\n",
    "<b>Task 1.4: </b>   \n",
    "    \n",
    "Using a notebook, derive the partial derivatives of the non-linear model and then set up the Jacobian matrix for the non-linear least-squares by completing the function below.\n",
    "    \n",
    "\n",
    "</p>\n",
    "</div>"
   ]
  },
  {
   "cell_type": "code",
   "execution_count": 11,
   "id": "4aef41e9",
   "metadata": {
    "id": "4aef41e9",
    "tags": []
   },
   "outputs": [],
   "source": [
    "def jacobian(x, d):\n",
    "    \"\"\"Compute Jacobian of the model.\n",
    "\n",
    "    Model, q: ground surface displacement.\n",
    "\n",
    "    Inputs:\n",
    "      x: tuple, list or array of parameters\n",
    "         (d, R, a, k)\n",
    "      d: dictionary of model parameters\n",
    "\n",
    "    Outputs: The Jacobian matrix, J\n",
    "             - partial derivatives w.r.t. parameters)\n",
    "             - J1 through J4: derivative w.r.t. d, R, a, k\n",
    "\n",
    "    Note: \"times\" is not included as an argument because\n",
    "    the model is only configured to compute the\n",
    "    model at times where the groundwater measurements have\n",
    "    been interpolated (i.e., the times of the satellite\n",
    "    observations). To use this model for prediction, the\n",
    "    interpolation function must be incorporated in the\n",
    "    dictionary and/or the function. \n",
    "    \"\"\"\n",
    "    # Hint: use d['days'] and d['groundwater'] for\n",
    "    #       the deterministic parameters\n",
    "\n",
    "    J1 = YOUR_CODE_HERE\n",
    "    J2 = YOUR_CODE_HERE\n",
    "    J3 = YOUR_CODE_HERE\n",
    "    J4 = YOUR_CODE_HERE\n",
    "    J = YOUR_CODE_HERE\n",
    "    \n",
    "    return J"
   ]
  },
  {
   "cell_type": "markdown",
   "id": "91709ccb",
   "metadata": {},
   "source": [
    "<div style=\"background-color:#AABAB2; color: black; width:95%; vertical-align: middle; padding:15px; margin: 10px; border-radius: 10px\">\n",
    "<p>\n",
    "<b>Task 1.5: </b>   \n",
    "    \n",
    "Confirm that the Jacobian function works properly by using it with the initial parameter values established above. If the function is called successfully, check the result by printing the first few rows of the Jacobian matrix and checking the dimensions.\n",
    "\n",
    "<em>Tip: it would be useful for the Report if you also printed the dimensions and/or redundancy of the model.</em>\n",
    "    \n",
    "\n",
    "</p>\n",
    "</div>"
   ]
  },
  {
   "cell_type": "code",
   "execution_count": null,
   "id": "c57e5e26",
   "metadata": {
    "colab": {
     "base_uri": "https://localhost:8080/"
    },
    "executionInfo": {
     "elapsed": 19,
     "status": "ok",
     "timestamp": 1664699883678,
     "user": {
      "displayName": "C Yin",
      "userId": "14075875094781565898"
     },
     "user_tz": -120
    },
    "id": "c57e5e26",
    "outputId": "2b46920b-8ff3-47c5-cc03-8dad183d52b3",
    "tags": []
   },
   "outputs": [],
   "source": [
    "YOUR_CODE_HERE\n",
    "\n",
    "print ('The first 5 rows of the Jacobian matrix (InSAR):')\n",
    "print (test_J[0:5,:])\n",
    "\n",
    "n_2 = np.shape(test_J)[1]\n",
    "print(f'\\nThe number of unknowns is {n_2}')\n",
    "print(f'The redundancy (InSAR) is {m1[\"y\"].shape[0] - n_2}')\n",
    "print(f'The redundancy (GNSS) is {m2[\"y\"].shape[0] - n_2}')"
   ]
  },
  {
   "cell_type": "markdown",
   "id": "b4633d84",
   "metadata": {
    "id": "b4633d84"
   },
   "source": [
    "## Part 2: Gauss-Newton Iteration\n",
    "\n",
    "This is an essential step of the algorithm for creating a non-linear least square model. We will use a function to easily repeat the analysis for InSAR and GNSS models. The `while`-loop and its contents are very similar to WS 1.4 earlier this week, with two notable exceptions:\n",
    "\n",
    "1. the loop is \"wrapped\" in a function, and\n",
    "2. the model dictionaries are used, which makes it easier to use existing functions (e.g., `BLUE()`) to find a solution "
   ]
  },
  {
   "cell_type": "markdown",
   "id": "ebafd29d",
   "metadata": {},
   "source": [
    "<div style=\"background-color:#AABAB2; color: black; width:95%; vertical-align: middle; padding:15px; margin: 10px; border-radius: 10px\">\n",
    "<p>\n",
    "<b>Task 2.1: </b>   \n",
    "    \n",
    "Set up a Gauss-Newton iteration algorithm by completing the function below.\n",
    "\n",
    "</p>\n",
    "</div>"
   ]
  },
  {
   "cell_type": "markdown",
   "id": "ef9e4ad4",
   "metadata": {},
   "source": [
    "<div style=\"background-color:#facb8e; color: black; vertical-align: middle; padding:15px; margin: 10px; border-radius: 10px; width: 95%\"> <p>\n",
    "<b>Important Note about Implmentation</b>\n",
    "\n",
    "The iteration scheme reuses the function <code>BLUE()</code> from last week, which has been included in the files <code>functions.py</code> (imported at the top of this notebook). During the iteration scheme, specific values of the dictionary are \"repurposed\" to create a <em>linear</em> system of equations. This facilitates the use of BLUE, which otherwise can only solve for <em>linear</em> models.\n",
    "\n",
    "After the iteration is completed successfully, the function should reset the \"repurposed\" values in the dictionary to their true value (i.e., values representing the non-linear system).</p></div>"
   ]
  },
  {
   "cell_type": "markdown",
   "id": "a6a70714",
   "metadata": {},
   "source": [
    "<div style=\"background-color:#facb8e; color: black; vertical-align: middle; padding:15px; margin: 10px; border-radius: 10px; width: 95%\"> <p>\n",
    "<b>Tips</b>\n",
    "\n",
    "If you find this task challenging, try jumping back and forth between this task and the next <b>two</b> tasks where you <em>use</em> the function and plot convergence of the parameters for each iteration. You can work out the bugs one by one.\n",
    "\n",
    "You can comment out the code near the end of the function (that adds summary information to the dictionary) and focus on implementing the code in the <code>while</code>-loop first. Once that part of the function is working you can return to the summary information. </p></div>"
   ]
  },
  {
   "cell_type": "code",
   "execution_count": 13,
   "id": "FbsD75dR0w5b",
   "metadata": {
    "id": "FbsD75dR0w5b",
    "tags": []
   },
   "outputs": [],
   "source": [
    "def gauss_newton_iteration(x0, d):\n",
    "    \"\"\"Use Gauss-Newton iteration to find non-linear parameters.\n",
    "    \n",
    "    Inputs:\n",
    "      x0: initial guess for the parameters (d, R, a, k)\n",
    "      d: dictionary of model parameters\n",
    "\n",
    "    Outputs: dictionary with the non-linear model results.\n",
    "    \"\"\"\n",
    "\n",
    "    x_norm = 1000 # initialize stop criteria\n",
    "\n",
    "    x_hat_i = np.zeros((50, 4))\n",
    "    x_hat_i[0,:] = x0\n",
    "    iteration = 0\n",
    "\n",
    "    # Define observations as an array\n",
    "    # (we will overwrite it temporarily)\n",
    "    y_obs = d['y']\n",
    "\n",
    "    while x_norm >= 1e-12 and iteration < 49:\n",
    "\n",
    "        y_comp_i = YOUR_CODE_HERE\n",
    "        Delta_y = YOUR_CODE_HERE\n",
    "        J_i = YOUR_CODE_HERE\n",
    "\n",
    "        d[YOUR_CODE_HERE] = YOUR_CODE_HERE\n",
    "        d[YOUR_CODE_HERE] = YOUR_CODE_HERE\n",
    "        # Hints for previous line:\n",
    "        #   - re-use your function BLUE\n",
    "        #   - you will need to repurpose two dictionary\n",
    "        #     keys to utilize the solution scheme of BLUE\n",
    "        #     that can solve linear equations\n",
    "\n",
    "        d = BLUE(d)\n",
    "        \n",
    "        X_hat_i[iteration+1,:] = YOUR_CODE_HERE\n",
    "        # Hints for previous line:\n",
    "        #   - now repurpose a result stored in the dictionary\n",
    "        \n",
    "        x_norm = YOUR_CODE_HERE\n",
    "        \n",
    "        # Update the iteration number\n",
    "        iteration += 1\n",
    "\n",
    "        if iteration==49:\n",
    "            print(\"Number of iterations too large, check initial values.\")\n",
    "\n",
    "    # Store general results from the iterative process\n",
    "    d['x_hat_all_iterations'] = YOUR_CODE_HERE\n",
    "    d['iterations_completed'] = YOUR_CODE_HERE\n",
    "\n",
    "    # Store the linear values and \"Reset\" the non-linear ones\n",
    "    # Two sets of values correspond to Y and X\n",
    "    d['Delta_y'] = YOUR_CODE_HERE\n",
    "    d['y'] = YOUR_CODE_HERE\n",
    "    \n",
    "    d['Delta_x'] = YOUR_CODE_HERE\n",
    "    d['X_hat'] = YOUR_CODE_HERE\n",
    "    \n",
    "    return d\n"
   ]
  },
  {
   "cell_type": "markdown",
   "id": "56eef3de",
   "metadata": {},
   "source": [
    "<div style=\"background-color:#AABAB2; color: black; width:95%; vertical-align: middle; padding:15px; margin: 10px; border-radius: 10px\">\n",
    "<p>\n",
    "<b>Task 2.2: </b>   \n",
    "    \n",
    "Apply Gauss-Newton iteration on your model.\n",
    "\n",
    "A few simple print statements are provided to help you observe the (completed) iterations.\n",
    "</p>\n",
    "</div>"
   ]
  },
  {
   "cell_type": "markdown",
   "id": "6c61d848",
   "metadata": {},
   "source": [
    "<div style=\"background-color:#facb8e; color: black; vertical-align: middle; padding:15px; margin: 10px; border-radius: 10px; width: 95%\"> <p>\n",
    "<b>Tips</b>\n",
    "\n",
    "It may take several tries to perfect the function above. If you are having trouble getting the function to run without errors, it can be useful to add print statements to the function to check where things go wrong. For example, something like this will indicate how the values of X_hat change on each iteration. If you see that the values stay at zero in each iteration, you probably are assigning variable values or indexing the arrays incorrectly; if you see that the values quickly become large (e.g., approaching infinity), you may have a mistake in your Jacobian.\n",
    "\n",
    "<pre>\n",
    "<code>\n",
    "...\n",
    "X_hat_i[iteration+1,:] = ...\n",
    "print(f'On iteration {iteration} X_hat_i is:', X_hat_i[iteration+1,:])\n",
    "...\n",
    "</code>\n",
    "</pre>\n",
    "\n",
    "</p></div>"
   ]
  },
  {
   "cell_type": "code",
   "execution_count": null,
   "id": "313380a0",
   "metadata": {
    "tags": []
   },
   "outputs": [],
   "source": [
    "m1 = gauss_newton_iteration(initial_guess, m1)\n",
    "m2 = gauss_newton_iteration(initial_guess, m2)\n",
    "\n",
    "print('\\n InSAR Reults for each iteration (Iterations completed =',\n",
    "      m1['iterations_completed'], ')')\n",
    "print(m1['x_hat_all_iterations'])\n",
    "\n",
    "print('\\n GNSS Reults for each iteration (Iterations completed =',\n",
    "      m2['iterations_completed'], ')')\n",
    "print(m2['x_hat_all_iterations'])"
   ]
  },
  {
   "cell_type": "markdown",
   "id": "03b3bbcd",
   "metadata": {},
   "source": [
    "<div style=\"background-color:#AABAB2; color: black; width:95%; vertical-align: middle; padding:15px; margin: 10px; border-radius: 10px\">\n",
    "<p>\n",
    "<b>Task 2.3: </b>   \n",
    "    \n",
    "Once your iteration scheme runs successfully, complete the code cell below to visualize the convergence of each parameter. This is useful for verifying that things worked properly.\n",
    "    \n",
    "For each unknown parameter, plot your estimates versus the iteration number (horizontal axis: iteration number, vertical axis: your estimate per iteration).\n",
    "\n",
    "Once complete, confirm whether or not each parameter converges, and observe the approximate number of iterations needed (you may need this information in your report).\n",
    "</p>\n",
    "</div>"
   ]
  },
  {
   "cell_type": "markdown",
   "id": "aa81b1b7",
   "metadata": {},
   "source": [
    "<div style=\"background-color:#facb8e; color: black; vertical-align: middle; padding:15px; margin: 10px; border-radius: 10px; width: 95%\"> <p>\n",
    "<b>Tip</b>\n",
    "\n",
    "Remember we stored all iterations in the dictionary as an ndarray with key <code>x_hat_all_iterations</code>. To slice an ndarray inside a dictionary you can use the following syntax: <code>my_dict['key_to_ndarray'][1, :]</code>, which would return the second row in the ndarray.</p></div>"
   ]
  },
  {
   "cell_type": "code",
   "execution_count": null,
   "id": "7d52c8b9",
   "metadata": {
    "id": "7d52c8b9",
    "tags": []
   },
   "outputs": [],
   "source": [
    "def plot_fit_iteration(d):\n",
    "    \"\"\"Plot value of each parameter, each iteration.\"\"\"\n",
    "    plt.figure(figsize = (15,4))\n",
    "    plt.subplots_adjust(top = 2)\n",
    "\n",
    "    plt.subplot(2,2,1)\n",
    "    YOUR_CODE_HERE\n",
    "    plt.title('YOUR_CODE_HERE')\n",
    "    plt.ylabel('YOUR_CODE_HERE [UNITS]')\n",
    "    plt.xlabel('Number of iterations [-]')\n",
    "  \n",
    "    plt.subplot(2,2,2)\n",
    "    YOUR_CODE_HERE\n",
    "    plt.title('YOUR_CODE_HERE')\n",
    "    plt.ylabel('YOUR_CODE_HERE [UNITS]')\n",
    "    plt.xlabel('Number of iterations [-]')\n",
    "    \n",
    "    plt.subplot(2,2,3)\n",
    "    YOUR_CODE_HERE\n",
    "    plt.title('YOUR_CODE_HERE')\n",
    "    plt.ylabel('YOUR_CODE_HERE [UNITS]')\n",
    "    plt.xlabel('Number of iterations [-]')\n",
    "    \n",
    "    plt.subplot(2,2,4)\n",
    "    YOUR_CODE_HERE\n",
    "    plt.title('YOUR_CODE_HERE')\n",
    "    plt.ylabel('YOUR_CODE_HERE [UNITS]')\n",
    "    plt.xlabel('Number of iterations [-]')\n",
    "\n",
    "plot_fit_iteration(m1)\n",
    "plot_fit_iteration(m2)"
   ]
  },
  {
   "cell_type": "markdown",
   "id": "b5439535",
   "metadata": {},
   "source": [
    "<div style=\"background-color:#facb8e; color: black; vertical-align: middle; padding:15px; margin: 10px; border-radius: 10px; width: 95%\"> <p>\n",
    "<b>Bonus Widget</b>\n",
    "\n",
    "Having trouble understanding how the Gauss-Newton scheme works? Do you want to visualize how the parameters and model change on each iteration? Try uncommenting the cell below to create an interactive plot!\n",
    "\n",
    "It is set up to visualize the model on each iteration. You can gain insight into the way convergence occurs by changing the value of <code>initial_guess_alternative</code> and rerunning the cell.</p></div>"
   ]
  },
  {
   "cell_type": "code",
   "execution_count": 16,
   "id": "0701ba54",
   "metadata": {},
   "outputs": [],
   "source": [
    "# initial_guess_alternative = initial_guess\n",
    "# print(initial_guess_alternative)\n",
    "# plot_convergence_interactive(gauss_newton_iteration(initial_guess_alternative, m1))\n",
    "# plot_convergence_interactive(gauss_newton_iteration(initial_guess_alternative, m2))"
   ]
  },
  {
   "cell_type": "markdown",
   "id": "b9c40713",
   "metadata": {
    "id": "b9c40713"
   },
   "source": [
    "## Part 3: Assessing Results"
   ]
  },
  {
   "cell_type": "markdown",
   "id": "e1082035",
   "metadata": {},
   "source": [
    "<div style=\"background-color:#AABAB2; color: black; width:95%; vertical-align: middle; padding:15px; margin: 10px; border-radius: 10px\">\n",
    "<p>\n",
    "<b>Task 3.1: Precision of Estimates</b>     \n",
    "    \n",
    "What is the quality of the final estimates? \n",
    "\n",
    "First complete the function for printing standard deviations of the estimate of each unknown parameter. Then run the cell to print the full covariance matrix of your estimates.\n",
    "\n",
    "We can re-use the function <code>model_summary()</code> from Part 0 of this notebook to verify that you have correctly computed the standard deviations of the estimates.\n",
    "</p>\n",
    "</div>"
   ]
  },
  {
   "cell_type": "code",
   "execution_count": null,
   "id": "5af9e513",
   "metadata": {
    "id": "5af9e513",
    "tags": []
   },
   "outputs": [],
   "source": [
    "def show_std(Sigma_X_hat, data_type):\n",
    "    print ('The standard deviation for',\n",
    "           data_type + '-offset is',\n",
    "           YOUR_CODE_HERE, 'UNITS')\n",
    "    print ('The standard deviation for',\n",
    "           data_type + '-R is',\n",
    "           YOUR_CODE_HERE, 'UNITS')\n",
    "    print ('The standard deviation for',\n",
    "           data_type + '-a is',\n",
    "           YOUR_CODE_HERE, 'UNITS')\n",
    "    print ('The standard deviation for',\n",
    "           data_type + '-the ground water factor',\n",
    "           YOUR_CODE_HERE, 'UNITS')\n",
    "    \n",
    "\n",
    "print ('Covariance matrix of estimated parameters (InSAR):')\n",
    "print (YOUR_CODE_HERE, '\\n')\n",
    "show_std(YOUR_CODE_HERE)\n",
    "print()\n",
    "model_summary(YOUR_CODE_HERE)\n",
    "\n",
    "print ('Covariance matrix of estimated parameters (GNSS):')\n",
    "print (YOUR_CODE_HERE, '\\n')\n",
    "show_std(YOUR_CODE_HERE)\n",
    "print()\n",
    "model_summary(YOUR_CODE_HERE)"
   ]
  },
  {
   "attachments": {},
   "cell_type": "markdown",
   "id": "21692a1a",
   "metadata": {},
   "source": [
    "<div style=\"background-color:#AABAB2; color: black; width:95%; vertical-align: middle; padding:15px; margin: 10px; border-radius: 10px\">\n",
    "<p>\n",
    "<b>Task 3.2: Visualizing Results</b>   \n",
    "\n",
    "Create a plot of the model predictions and residuals, along with a confidence interval of 96% for each plot. Include also the empirical and theoretical distribution of residuals.\n",
    "\n",
    "The file <code>functions.py</code> includes the functions <code>get_CI()</code>, <code>plot_model()</code>, <code>plot_residual()</code> and <code>plot_residual_histogram()</code> from GA 1.3 last week.\n",
    "\n",
    "Prior to using the functions you will need to compute the modeled displacements, $\\hat{\\mathrm{Y}}$ using a function defined previously in this notebook.\n",
    "\n",
    "You can choose your own significance level for the confidence interval.\n",
    "</p>\n",
    "</div>"
   ]
  },
  {
   "cell_type": "markdown",
   "id": "40c591ff",
   "metadata": {},
   "source": [
    "<div style=\"background-color:#facb8e; color: black; vertical-align: middle; padding:15px; margin: 10px; border-radius: 10px; width: 95%\"> <p>\n",
    "<b>Tip</b>\n",
    "\n",
    "Open\n",
    "<code>functions.py</code> and read the contents if you cannot recall how each function is used. You can also use the <code>help()</code> method in Python to print a docstring (try it in the cell below!).</p></div>"
   ]
  },
  {
   "cell_type": "code",
   "execution_count": null,
   "id": "23d60331",
   "metadata": {},
   "outputs": [],
   "source": [
    "help(get_CI)"
   ]
  },
  {
   "cell_type": "code",
   "execution_count": null,
   "id": "pDJfjxgs6veD",
   "metadata": {
    "colab": {
     "base_uri": "https://localhost:8080/",
     "height": 982
    },
    "executionInfo": {
     "elapsed": 787,
     "status": "ok",
     "timestamp": 1664699888366,
     "user": {
      "displayName": "C Yin",
      "userId": "14075875094781565898"
     },
     "user_tz": -120
    },
    "id": "pDJfjxgs6veD",
    "outputId": "212041d5-43c7-4df6-8ebc-4fdff0d79daf",
    "tags": []
   },
   "outputs": [],
   "source": [
    "m1['Y_hat'] = YOUR_CODE_HERE\n",
    "m1 = get_CI(YOUR_CODE_HERE)\n",
    "plot_model(YOUR_CODE_HERE)\n",
    "plot_residual(YOUR_CODE_HERE)\n",
    "plot_residual_histogram(YOUR_CODE_HERE);"
   ]
  },
  {
   "cell_type": "code",
   "execution_count": null,
   "id": "ngZMBQM87QMr",
   "metadata": {
    "colab": {
     "base_uri": "https://localhost:8080/",
     "height": 982
    },
    "executionInfo": {
     "elapsed": 921,
     "status": "ok",
     "timestamp": 1664699889284,
     "user": {
      "displayName": "C Yin",
      "userId": "14075875094781565898"
     },
     "user_tz": -120
    },
    "id": "ngZMBQM87QMr",
    "outputId": "35c44fc7-4b48-4727-c9cf-65c01e528d19",
    "tags": []
   },
   "outputs": [],
   "source": [
    "m1['Y_hat'] = YOUR_CODE_HERE\n",
    "m1 = get_CI(YOUR_CODE_HERE)\n",
    "plot_model(YOUR_CODE_HERE)\n",
    "plot_residual(YOUR_CODE_HERE)\n",
    "plot_residual_histogram(YOUR_CODE_HERE);"
   ]
  },
  {
   "cell_type": "markdown",
   "id": "af211a2b",
   "metadata": {
    "id": "af211a2b"
   },
   "source": [
    "## Part 4: Hypothesis Test\n",
    "\n",
    "In GA 1.3 and GA 1.4 we used two different models:\n",
    "* GA 1.3: A linear model\n",
    "* GA 1.4: A model with linear and power components\n",
    "\n",
    "Now we are going to test which model fits the data better. We will do this with the Generalized Likelihood Ratio (GLR) test for both the GNSS and InSAR observations."
   ]
  },
  {
   "cell_type": "markdown",
   "id": "252a275e",
   "metadata": {},
   "source": [
    "<div style=\"background-color:#AABAB2; color: black; width:95%; vertical-align: middle; padding:15px; margin: 10px; border-radius: 10px\">\n",
    "<p>\n",
    "<b>Task 4.1: </b>   \n",
    "\n",
    "Identify the appropriate test statistic and compute the critical value with level of significance $\\alpha=0.005$.\n",
    "</p>\n",
    "</div>\n"
   ]
  },
  {
   "cell_type": "code",
   "execution_count": null,
   "id": "d431d4f5",
   "metadata": {
    "tags": []
   },
   "outputs": [],
   "source": [
    "YOUR_CODE_HERE (probably will be more than one line)\n",
    "print(f'The critical value is {np.round(k, 3)}')"
   ]
  },
  {
   "cell_type": "markdown",
   "id": "89fe3313",
   "metadata": {},
   "source": [
    "<div style=\"background-color:#AABAB2; color: black; width:95%; vertical-align: middle; padding:15px; margin: 10px; border-radius: 10px\">\n",
    "<p>\n",
    "<b>Task 4.2: </b>   \n",
    "\n",
    "Compute the test statistic for InSAR data.\n",
    "</p>\n",
    "</div>\n"
   ]
  },
  {
   "cell_type": "code",
   "execution_count": null,
   "id": "92b5b797-093d-46fb-a2c0-2b9ccdae4052",
   "metadata": {
    "colab": {
     "base_uri": "https://localhost:8080/"
    },
    "executionInfo": {
     "elapsed": 303,
     "status": "ok",
     "timestamp": 1664699889583,
     "user": {
      "displayName": "C Yin",
      "userId": "14075875094781565898"
     },
     "user_tz": -120
    },
    "id": "92b5b797-093d-46fb-a2c0-2b9ccdae4052",
    "outputId": "7dbbf60b-6bc0-41ae-d730-3423a2e9c032",
    "tags": []
   },
   "outputs": [],
   "source": [
    "t1_insar = YOUR_CODE_HERE\n",
    "t2_insar = YOUR_CODE_HERE\n",
    "t_insar = t1_insar - t2_insar\n",
    "print(f'The test statistic for InSAR data is {np.round(t_insar, 3)}')"
   ]
  },
  {
   "cell_type": "markdown",
   "id": "8a76e05b",
   "metadata": {},
   "source": [
    "<div style=\"background-color:#AABAB2; color: black; width:95%; vertical-align: middle; padding:15px; margin: 10px; border-radius: 10px\">\n",
    "<p>\n",
    "<b>Task 4.3: </b>   \n",
    "\n",
    "Compute the test statistic for GNSS data.\n",
    "</p>\n",
    "</div>\n"
   ]
  },
  {
   "cell_type": "code",
   "execution_count": null,
   "id": "ae6038da",
   "metadata": {
    "tags": []
   },
   "outputs": [],
   "source": [
    "t1_gnss = YOUR_CODE_HERE\n",
    "t2_gnss = YOUR_CODE_HERE\n",
    "t_gnss = t1_gnss - t2_gnss\n",
    "print(f'The test statistic for GNSS data is {np.round(t_gnss, 3)}')"
   ]
  },
  {
   "cell_type": "markdown",
   "id": "469bc169",
   "metadata": {},
   "source": [
    "**End of notebook.**\n",
    "\n",
    "<div style=\"margin-top: 50px; padding-top: 20px; border-top: 1px solid #ccc;\">\n",
    "  <div style=\"display: flex; justify-content: flex-end; gap: 20px; align-items: center;\">\n",
    "    <a rel=\"MUDE\" href=\"http://mude.citg.tudelft.nl/\">\n",
    "      <img alt=\"MUDE\" style=\"width:100px; height:auto;\" src=\"https://gitlab.tudelft.nl/mude/public/-/raw/main/mude-logo/MUDE_Logo-small.png\" />\n",
    "    </a>\n",
    "    <a rel=\"TU Delft\" href=\"https://www.tudelft.nl/en/ceg\">\n",
    "      <img alt=\"TU Delft\" style=\"width:100px; height:auto;\" src=\"https://gitlab.tudelft.nl/mude/public/-/raw/main/tu-logo/TU_P1_full-color.png\" />\n",
    "    </a>\n",
    "    <a rel=\"license\" href=\"http://creativecommons.org/licenses/by/4.0/\">\n",
    "      <img alt=\"Creative Commons License\" style=\"width:88px; height:auto;\" src=\"https://i.creativecommons.org/l/by/4.0/88x31.png\" />\n",
    "    </a>\n",
    "  </div>\n",
    "  <div style=\"font-size: 75%; margin-top: 10px; text-align: right;\">\n",
    "    &copy; Copyright 2024 <a rel=\"MUDE\" href=\"http://mude.citg.tudelft.nl/\">MUDE</a> TU Delft. \n",
    "    This work is licensed under a <a rel=\"license\" href=\"http://creativecommons.org/licenses/by/4.0/\">CC BY 4.0 License</a>.\n",
    "  </div>\n",
    "</div>\n",
    "\n",
    "\n",
    "<!--tested with WS_2_8_solution.ipynb-->"
   ]
  }
 ],
 "metadata": {
  "colab": {
   "collapsed_sections": [],
   "provenance": []
  },
  "kernelspec": {
   "display_name": "Python 3 (ipykernel)",
   "language": "python",
   "name": "python3"
  },
  "language_info": {
   "codemirror_mode": {
    "name": "ipython",
    "version": 3
   },
   "file_extension": ".py",
   "mimetype": "text/x-python",
   "name": "python",
   "nbconvert_exporter": "python",
   "pygments_lexer": "ipython3",
   "version": "3.12.6"
  },
  "vscode": {
   "interpreter": {
    "hash": "b932539803d9742d977fbe9ca28a706a58466dc5c9df0c7af4e41c76d82e5a85"
   }
  },
  "widgets": {
   "application/vnd.jupyter.widget-state+json": {
    "state": {},
    "version_major": 2,
    "version_minor": 0
   }
  }
 },
 "nbformat": 4,
 "nbformat_minor": 5
}
